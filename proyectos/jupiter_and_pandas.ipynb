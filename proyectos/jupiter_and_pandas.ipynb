{
 "cells": [
  {
   "cell_type": "code",
   "execution_count": 6,
   "metadata": {},
   "outputs": [
    {
     "data": {
      "text/html": [
       "<div>\n",
       "<style scoped>\n",
       "    .dataframe tbody tr th:only-of-type {\n",
       "        vertical-align: middle;\n",
       "    }\n",
       "\n",
       "    .dataframe tbody tr th {\n",
       "        vertical-align: top;\n",
       "    }\n",
       "\n",
       "    .dataframe thead th {\n",
       "        text-align: right;\n",
       "    }\n",
       "</style>\n",
       "<table border=\"1\" class=\"dataframe\">\n",
       "  <thead>\n",
       "    <tr style=\"text-align: right;\">\n",
       "      <th></th>\n",
       "      <th>Título</th>\n",
       "      <th>Película</th>\n",
       "      <th>Director</th>\n",
       "    </tr>\n",
       "  </thead>\n",
       "  <tbody>\n",
       "    <tr>\n",
       "      <th>0</th>\n",
       "      <td>Los Vengadores</td>\n",
       "      <td>The Avengers</td>\n",
       "      <td>Joss Whedon</td>\n",
       "    </tr>\n",
       "    <tr>\n",
       "      <th>1</th>\n",
       "      <td>Iron Man 2</td>\n",
       "      <td>Iron Man 2</td>\n",
       "      <td>Jon Favreau</td>\n",
       "    </tr>\n",
       "    <tr>\n",
       "      <th>2</th>\n",
       "      <td>El Increíble Hulk</td>\n",
       "      <td>The Incredible Hulk</td>\n",
       "      <td>Louis Leterrier</td>\n",
       "    </tr>\n",
       "    <tr>\n",
       "      <th>3</th>\n",
       "      <td>Thor</td>\n",
       "      <td>Thor</td>\n",
       "      <td>Kenneth Branagh</td>\n",
       "    </tr>\n",
       "  </tbody>\n",
       "</table>\n",
       "</div>"
      ],
      "text/plain": [
       "              Título             Película         Director\n",
       "0     Los Vengadores         The Avengers      Joss Whedon\n",
       "1         Iron Man 2           Iron Man 2      Jon Favreau\n",
       "2  El Increíble Hulk  The Incredible Hulk  Louis Leterrier\n",
       "3               Thor                 Thor  Kenneth Branagh"
      ]
     },
     "execution_count": 6,
     "metadata": {},
     "output_type": "execute_result"
    }
   ],
   "source": [
    "import pandas as pd\n",
    "archivos = pd.read_csv(\"archivos\\\\datos.csv\")\n",
    "archivos"
   ]
  },
  {
   "cell_type": "code",
   "execution_count": 1,
   "metadata": {},
   "outputs": [
    {
     "data": {
      "text/plain": [
       "0       Los Vengadores\n",
       "1           Iron Man 2\n",
       "2    El Increíble Hulk\n",
       "3                 Thor\n",
       "Name: titulo, dtype: object"
      ]
     },
     "execution_count": 1,
     "metadata": {},
     "output_type": "execute_result"
    }
   ],
   "source": [
    "import pandas as pd\n",
    "data_frame = pd.read_csv(\"archivos\\\\datos.csv\")\n",
    "df = data_frame\n",
    "titulos = df['titulo']\n",
    "titulos"
   ]
  },
  {
   "cell_type": "code",
   "execution_count": 5,
   "metadata": {},
   "outputs": [
    {
     "data": {
      "text/plain": [
       "'qwerty'"
      ]
     },
     "execution_count": 5,
     "metadata": {},
     "output_type": "execute_result"
    }
   ],
   "source": [
    "cadena = \"qwertyuiop\"\n",
    "cadena[0:6]"
   ]
  },
  {
   "cell_type": "code",
   "execution_count": 8,
   "metadata": {},
   "outputs": [
    {
     "data": {
      "text/html": [
       "<div>\n",
       "<style scoped>\n",
       "    .dataframe tbody tr th:only-of-type {\n",
       "        vertical-align: middle;\n",
       "    }\n",
       "\n",
       "    .dataframe tbody tr th {\n",
       "        vertical-align: top;\n",
       "    }\n",
       "\n",
       "    .dataframe thead th {\n",
       "        text-align: right;\n",
       "    }\n",
       "</style>\n",
       "<table border=\"1\" class=\"dataframe\">\n",
       "  <thead>\n",
       "    <tr style=\"text-align: right;\">\n",
       "      <th></th>\n",
       "      <th>titulo</th>\n",
       "      <th>pelicula</th>\n",
       "      <th>director</th>\n",
       "      <th>ganancias</th>\n",
       "    </tr>\n",
       "  </thead>\n",
       "  <tbody>\n",
       "    <tr>\n",
       "      <th>0</th>\n",
       "      <td>Los Vengadores</td>\n",
       "      <td>The Avengers</td>\n",
       "      <td>Joss Whedon</td>\n",
       "      <td>5760000</td>\n",
       "    </tr>\n",
       "    <tr>\n",
       "      <th>2</th>\n",
       "      <td>El Increíble Hulk</td>\n",
       "      <td>The Incredible Hulk</td>\n",
       "      <td>Louis Leterrier</td>\n",
       "      <td>4000000</td>\n",
       "    </tr>\n",
       "    <tr>\n",
       "      <th>1</th>\n",
       "      <td>Iron Man 2</td>\n",
       "      <td>Iron Man 2</td>\n",
       "      <td>Jon Favreau</td>\n",
       "      <td>2300000</td>\n",
       "    </tr>\n",
       "    <tr>\n",
       "      <th>3</th>\n",
       "      <td>Thor</td>\n",
       "      <td>Thor</td>\n",
       "      <td>Kenneth Branagh</td>\n",
       "      <td>1200000</td>\n",
       "    </tr>\n",
       "  </tbody>\n",
       "</table>\n",
       "</div>"
      ],
      "text/plain": [
       "              titulo             pelicula         director  ganancias\n",
       "0     Los Vengadores         The Avengers      Joss Whedon    5760000\n",
       "2  El Increíble Hulk  The Incredible Hulk  Louis Leterrier    4000000\n",
       "1         Iron Man 2           Iron Man 2      Jon Favreau    2300000\n",
       "3               Thor                 Thor  Kenneth Branagh    1200000"
      ]
     },
     "execution_count": 8,
     "metadata": {},
     "output_type": "execute_result"
    }
   ],
   "source": [
    "import pandas as pd\n",
    "data_frame = pd.read_csv(\"archivos\\\\datos.csv\")\n",
    "df = data_frame\n",
    "ganancias = df['ganancias']\n",
    "\n",
    "\n",
    "\n",
    "# ordeno de menor a mayor, pero utilizo el data_frame\n",
    "data_frame.sort_values(\"ganancias\", ascending=False)\n"
   ]
  },
  {
   "cell_type": "code",
   "execution_count": 12,
   "metadata": {},
   "outputs": [
    {
     "data": {
      "text/plain": [
       "3    1200000\n",
       "1    2300000\n",
       "2    4000000\n",
       "0    5760000\n",
       "Name: ganancias, dtype: int64"
      ]
     },
     "execution_count": 12,
     "metadata": {},
     "output_type": "execute_result"
    }
   ],
   "source": [
    "# ordeno de menor a mayor\n",
    "ganancias.sort_values()\n"
   ]
  },
  {
   "cell_type": "code",
   "execution_count": 11,
   "metadata": {},
   "outputs": [
    {
     "data": {
      "text/html": [
       "<div>\n",
       "<style scoped>\n",
       "    .dataframe tbody tr th:only-of-type {\n",
       "        vertical-align: middle;\n",
       "    }\n",
       "\n",
       "    .dataframe tbody tr th {\n",
       "        vertical-align: top;\n",
       "    }\n",
       "\n",
       "    .dataframe thead th {\n",
       "        text-align: right;\n",
       "    }\n",
       "</style>\n",
       "<table border=\"1\" class=\"dataframe\">\n",
       "  <thead>\n",
       "    <tr style=\"text-align: right;\">\n",
       "      <th></th>\n",
       "      <th>titulo</th>\n",
       "      <th>pelicula</th>\n",
       "      <th>director</th>\n",
       "      <th>ganancias</th>\n",
       "      <th>0</th>\n",
       "    </tr>\n",
       "  </thead>\n",
       "  <tbody>\n",
       "    <tr>\n",
       "      <th>0</th>\n",
       "      <td>Los Vengadores</td>\n",
       "      <td>The Avengers</td>\n",
       "      <td>Joss Whedon</td>\n",
       "      <td>5760000.0</td>\n",
       "      <td>NaN</td>\n",
       "    </tr>\n",
       "    <tr>\n",
       "      <th>1</th>\n",
       "      <td>Iron Man 2</td>\n",
       "      <td>Iron Man 2</td>\n",
       "      <td>Jon Favreau</td>\n",
       "      <td>2300000.0</td>\n",
       "      <td>NaN</td>\n",
       "    </tr>\n",
       "    <tr>\n",
       "      <th>2</th>\n",
       "      <td>El Increíble Hulk</td>\n",
       "      <td>The Incredible Hulk</td>\n",
       "      <td>Louis Leterrier</td>\n",
       "      <td>4000000.0</td>\n",
       "      <td>NaN</td>\n",
       "    </tr>\n",
       "    <tr>\n",
       "      <th>3</th>\n",
       "      <td>Thor</td>\n",
       "      <td>Thor</td>\n",
       "      <td>Kenneth Branagh</td>\n",
       "      <td>1200000.0</td>\n",
       "      <td>NaN</td>\n",
       "    </tr>\n",
       "    <tr>\n",
       "      <th>0</th>\n",
       "      <td>NaN</td>\n",
       "      <td>NaN</td>\n",
       "      <td>NaN</td>\n",
       "      <td>NaN</td>\n",
       "      <td>5760000.0</td>\n",
       "    </tr>\n",
       "    <tr>\n",
       "      <th>1</th>\n",
       "      <td>NaN</td>\n",
       "      <td>NaN</td>\n",
       "      <td>NaN</td>\n",
       "      <td>NaN</td>\n",
       "      <td>2300000.0</td>\n",
       "    </tr>\n",
       "    <tr>\n",
       "      <th>2</th>\n",
       "      <td>NaN</td>\n",
       "      <td>NaN</td>\n",
       "      <td>NaN</td>\n",
       "      <td>NaN</td>\n",
       "      <td>4000000.0</td>\n",
       "    </tr>\n",
       "    <tr>\n",
       "      <th>3</th>\n",
       "      <td>NaN</td>\n",
       "      <td>NaN</td>\n",
       "      <td>NaN</td>\n",
       "      <td>NaN</td>\n",
       "      <td>1200000.0</td>\n",
       "    </tr>\n",
       "  </tbody>\n",
       "</table>\n",
       "</div>"
      ],
      "text/plain": [
       "              titulo             pelicula         director  ganancias  \\\n",
       "0     Los Vengadores         The Avengers      Joss Whedon  5760000.0   \n",
       "1         Iron Man 2           Iron Man 2      Jon Favreau  2300000.0   \n",
       "2  El Increíble Hulk  The Incredible Hulk  Louis Leterrier  4000000.0   \n",
       "3               Thor                 Thor  Kenneth Branagh  1200000.0   \n",
       "0                NaN                  NaN              NaN        NaN   \n",
       "1                NaN                  NaN              NaN        NaN   \n",
       "2                NaN                  NaN              NaN        NaN   \n",
       "3                NaN                  NaN              NaN        NaN   \n",
       "\n",
       "           0  \n",
       "0        NaN  \n",
       "1        NaN  \n",
       "2        NaN  \n",
       "3        NaN  \n",
       "0  5760000.0  \n",
       "1  2300000.0  \n",
       "2  4000000.0  \n",
       "3  1200000.0  "
      ]
     },
     "execution_count": 11,
     "metadata": {},
     "output_type": "execute_result"
    }
   ],
   "source": [
    "concatenacion = pd.concat([data_frame,ganancias ])\n",
    "concatenacion"
   ]
  },
  {
   "cell_type": "code",
   "execution_count": 24,
   "metadata": {},
   "outputs": [
    {
     "data": {
      "text/html": [
       "<div>\n",
       "<style scoped>\n",
       "    .dataframe tbody tr th:only-of-type {\n",
       "        vertical-align: middle;\n",
       "    }\n",
       "\n",
       "    .dataframe tbody tr th {\n",
       "        vertical-align: top;\n",
       "    }\n",
       "\n",
       "    .dataframe thead th {\n",
       "        text-align: right;\n",
       "    }\n",
       "</style>\n",
       "<table border=\"1\" class=\"dataframe\">\n",
       "  <thead>\n",
       "    <tr style=\"text-align: right;\">\n",
       "      <th></th>\n",
       "      <th>Título</th>\n",
       "      <th>Película</th>\n",
       "      <th>Director</th>\n",
       "      <th>Ganancias</th>\n",
       "    </tr>\n",
       "  </thead>\n",
       "  <tbody>\n",
       "    <tr>\n",
       "      <th>6</th>\n",
       "      <td>Guardianes de la Galaxia</td>\n",
       "      <td>Guardians of the Galaxy</td>\n",
       "      <td>James Gunn</td>\n",
       "      <td>7700000</td>\n",
       "    </tr>\n",
       "    <tr>\n",
       "      <th>4</th>\n",
       "      <td>Iron Man</td>\n",
       "      <td>Iron Man</td>\n",
       "      <td>Jon Favreau</td>\n",
       "      <td>5850000</td>\n",
       "    </tr>\n",
       "    <tr>\n",
       "      <th>0</th>\n",
       "      <td>Los Vengadores</td>\n",
       "      <td>The Avengers</td>\n",
       "      <td>Joss Whedon</td>\n",
       "      <td>5760000</td>\n",
       "    </tr>\n",
       "    <tr>\n",
       "      <th>2</th>\n",
       "      <td>El Increíble Hulk</td>\n",
       "      <td>The Incredible Hulk</td>\n",
       "      <td>Louis Leterrier</td>\n",
       "      <td>4000000</td>\n",
       "    </tr>\n",
       "    <tr>\n",
       "      <th>5</th>\n",
       "      <td>Capitán América: El Primer Vengador</td>\n",
       "      <td>Captain America: The First Avenger</td>\n",
       "      <td>Joe Johnston</td>\n",
       "      <td>3700000</td>\n",
       "    </tr>\n",
       "    <tr>\n",
       "      <th>1</th>\n",
       "      <td>Iron Man 2</td>\n",
       "      <td>Iron Man 2</td>\n",
       "      <td>Jon Favreau</td>\n",
       "      <td>2300000</td>\n",
       "    </tr>\n",
       "    <tr>\n",
       "      <th>7</th>\n",
       "      <td>Black Widow</td>\n",
       "      <td>Black Widow</td>\n",
       "      <td>Cate Shortland</td>\n",
       "      <td>1900000</td>\n",
       "    </tr>\n",
       "    <tr>\n",
       "      <th>3</th>\n",
       "      <td>Thor</td>\n",
       "      <td>Thor</td>\n",
       "      <td>Kenneth Branagh</td>\n",
       "      <td>120000</td>\n",
       "    </tr>\n",
       "  </tbody>\n",
       "</table>\n",
       "</div>"
      ],
      "text/plain": [
       "                                Título                            Película  \\\n",
       "6             Guardianes de la Galaxia             Guardians of the Galaxy   \n",
       "4                             Iron Man                            Iron Man   \n",
       "0                       Los Vengadores                        The Avengers   \n",
       "2                    El Increíble Hulk                 The Incredible Hulk   \n",
       "5  Capitán América: El Primer Vengador  Captain America: The First Avenger   \n",
       "1                           Iron Man 2                          Iron Man 2   \n",
       "7                          Black Widow                         Black Widow   \n",
       "3                                 Thor                                Thor   \n",
       "\n",
       "          Director  Ganancias  \n",
       "6       James Gunn    7700000  \n",
       "4      Jon Favreau    5850000  \n",
       "0      Joss Whedon    5760000  \n",
       "2  Louis Leterrier    4000000  \n",
       "5     Joe Johnston    3700000  \n",
       "1      Jon Favreau    2300000  \n",
       "7   Cate Shortland    1900000  \n",
       "3  Kenneth Branagh     120000  "
      ]
     },
     "execution_count": 24,
     "metadata": {},
     "output_type": "execute_result"
    }
   ],
   "source": [
    "import pandas as pd\n",
    "df = pd.read_csv(\"archivos\\\\datos_x50.csv\")\n",
    "dfx8 = df.head(8)\n",
    "dfx8.sort_values(\"Ganancias\", ascending=False)"
   ]
  },
  {
   "cell_type": "code",
   "execution_count": 26,
   "metadata": {},
   "outputs": [
    {
     "data": {
      "text/html": [
       "<div>\n",
       "<style scoped>\n",
       "    .dataframe tbody tr th:only-of-type {\n",
       "        vertical-align: middle;\n",
       "    }\n",
       "\n",
       "    .dataframe tbody tr th {\n",
       "        vertical-align: top;\n",
       "    }\n",
       "\n",
       "    .dataframe thead th {\n",
       "        text-align: right;\n",
       "    }\n",
       "</style>\n",
       "<table border=\"1\" class=\"dataframe\">\n",
       "  <thead>\n",
       "    <tr style=\"text-align: right;\">\n",
       "      <th></th>\n",
       "      <th>Título</th>\n",
       "      <th>Película</th>\n",
       "      <th>Director</th>\n",
       "      <th>Ganancias</th>\n",
       "    </tr>\n",
       "  </thead>\n",
       "  <tbody>\n",
       "    <tr>\n",
       "      <th>41</th>\n",
       "      <td>Avengers: The Secret Invasion</td>\n",
       "      <td>Avengers: The Secret Invasion</td>\n",
       "      <td>TBD</td>\n",
       "      <td>0</td>\n",
       "    </tr>\n",
       "    <tr>\n",
       "      <th>42</th>\n",
       "      <td>Avengers: Rise of the Skrulls</td>\n",
       "      <td>Avengers: Rise of the Skrulls</td>\n",
       "      <td>TBD</td>\n",
       "      <td>0</td>\n",
       "    </tr>\n",
       "    <tr>\n",
       "      <th>43</th>\n",
       "      <td>Avengers: The Cosmic Quest</td>\n",
       "      <td>Avengers: The Cosmic Quest</td>\n",
       "      <td>TBD</td>\n",
       "      <td>0</td>\n",
       "    </tr>\n",
       "    <tr>\n",
       "      <th>44</th>\n",
       "      <td>Avengers: The Eternals</td>\n",
       "      <td>Avengers: The Eternals</td>\n",
       "      <td>TBD</td>\n",
       "      <td>0</td>\n",
       "    </tr>\n",
       "    <tr>\n",
       "      <th>45</th>\n",
       "      <td>Avengers: The Inhumans</td>\n",
       "      <td>Avengers: The Inhumans</td>\n",
       "      <td>TBD</td>\n",
       "      <td>0</td>\n",
       "    </tr>\n",
       "  </tbody>\n",
       "</table>\n",
       "</div>"
      ],
      "text/plain": [
       "                           Título                       Película Director  \\\n",
       "41  Avengers: The Secret Invasion  Avengers: The Secret Invasion      TBD   \n",
       "42  Avengers: Rise of the Skrulls  Avengers: Rise of the Skrulls      TBD   \n",
       "43     Avengers: The Cosmic Quest     Avengers: The Cosmic Quest      TBD   \n",
       "44         Avengers: The Eternals         Avengers: The Eternals      TBD   \n",
       "45         Avengers: The Inhumans         Avengers: The Inhumans      TBD   \n",
       "\n",
       "    Ganancias  \n",
       "41          0  \n",
       "42          0  \n",
       "43          0  \n",
       "44          0  \n",
       "45          0  "
      ]
     },
     "execution_count": 26,
     "metadata": {},
     "output_type": "execute_result"
    }
   ],
   "source": [
    "df.tail(5)"
   ]
  },
  {
   "cell_type": "code",
   "execution_count": 33,
   "metadata": {},
   "outputs": [
    {
     "name": "stdout",
     "output_type": "stream",
     "text": [
      "filas : 46 columnas : 4\n"
     ]
    }
   ],
   "source": [
    "filas_y_columnas_totales = df.shape\n",
    "filas, columnas = filas_y_columnas_totales\n",
    "print(\"filas :\",filas,\"columnas :\", columnas)"
   ]
  },
  {
   "cell_type": "code",
   "execution_count": 36,
   "metadata": {},
   "outputs": [
    {
     "data": {
      "text/html": [
       "<div>\n",
       "<style scoped>\n",
       "    .dataframe tbody tr th:only-of-type {\n",
       "        vertical-align: middle;\n",
       "    }\n",
       "\n",
       "    .dataframe tbody tr th {\n",
       "        vertical-align: top;\n",
       "    }\n",
       "\n",
       "    .dataframe thead th {\n",
       "        text-align: right;\n",
       "    }\n",
       "</style>\n",
       "<table border=\"1\" class=\"dataframe\">\n",
       "  <thead>\n",
       "    <tr style=\"text-align: right;\">\n",
       "      <th></th>\n",
       "      <th>ganancias</th>\n",
       "    </tr>\n",
       "  </thead>\n",
       "  <tbody>\n",
       "    <tr>\n",
       "      <th>count</th>\n",
       "      <td>4.000000e+00</td>\n",
       "    </tr>\n",
       "    <tr>\n",
       "      <th>mean</th>\n",
       "      <td>3.315000e+06</td>\n",
       "    </tr>\n",
       "    <tr>\n",
       "      <th>std</th>\n",
       "      <td>1.995887e+06</td>\n",
       "    </tr>\n",
       "    <tr>\n",
       "      <th>min</th>\n",
       "      <td>1.200000e+06</td>\n",
       "    </tr>\n",
       "    <tr>\n",
       "      <th>25%</th>\n",
       "      <td>2.025000e+06</td>\n",
       "    </tr>\n",
       "    <tr>\n",
       "      <th>50%</th>\n",
       "      <td>3.150000e+06</td>\n",
       "    </tr>\n",
       "    <tr>\n",
       "      <th>75%</th>\n",
       "      <td>4.440000e+06</td>\n",
       "    </tr>\n",
       "    <tr>\n",
       "      <th>max</th>\n",
       "      <td>5.760000e+06</td>\n",
       "    </tr>\n",
       "  </tbody>\n",
       "</table>\n",
       "</div>"
      ],
      "text/plain": [
       "          ganancias\n",
       "count  4.000000e+00\n",
       "mean   3.315000e+06\n",
       "std    1.995887e+06\n",
       "min    1.200000e+06\n",
       "25%    2.025000e+06\n",
       "50%    3.150000e+06\n",
       "75%    4.440000e+06\n",
       "max    5.760000e+06"
      ]
     },
     "execution_count": 36,
     "metadata": {},
     "output_type": "execute_result"
    }
   ],
   "source": [
    "# obtiene de los datos posibles sus estadisticas\n",
    "data_frame.describe()"
   ]
  },
  {
   "cell_type": "code",
   "execution_count": 13,
   "metadata": {},
   "outputs": [
    {
     "data": {
      "text/html": [
       "<div>\n",
       "<style scoped>\n",
       "    .dataframe tbody tr th:only-of-type {\n",
       "        vertical-align: middle;\n",
       "    }\n",
       "\n",
       "    .dataframe tbody tr th {\n",
       "        vertical-align: top;\n",
       "    }\n",
       "\n",
       "    .dataframe thead th {\n",
       "        text-align: right;\n",
       "    }\n",
       "</style>\n",
       "<table border=\"1\" class=\"dataframe\">\n",
       "  <thead>\n",
       "    <tr style=\"text-align: right;\">\n",
       "      <th></th>\n",
       "      <th>titulo</th>\n",
       "      <th>pelicula</th>\n",
       "      <th>director</th>\n",
       "      <th>ganancias</th>\n",
       "    </tr>\n",
       "  </thead>\n",
       "  <tbody>\n",
       "    <tr>\n",
       "      <th>0</th>\n",
       "      <td>Los Vengadores</td>\n",
       "      <td>The Avengers</td>\n",
       "      <td>Joss Whedon</td>\n",
       "      <td>5760000</td>\n",
       "    </tr>\n",
       "    <tr>\n",
       "      <th>1</th>\n",
       "      <td>Iron Man 2</td>\n",
       "      <td>Iron Man 2</td>\n",
       "      <td>Jon Favreau</td>\n",
       "      <td>2300000</td>\n",
       "    </tr>\n",
       "    <tr>\n",
       "      <th>2</th>\n",
       "      <td>El Increíble Hulk</td>\n",
       "      <td>The Incredible Hulk</td>\n",
       "      <td>Louis Leterrier</td>\n",
       "      <td>4000000</td>\n",
       "    </tr>\n",
       "    <tr>\n",
       "      <th>3</th>\n",
       "      <td>Thor</td>\n",
       "      <td>Thor</td>\n",
       "      <td>Kenneth Branagh</td>\n",
       "      <td>1200000</td>\n",
       "    </tr>\n",
       "    <tr>\n",
       "      <th>0</th>\n",
       "      <td>Los Vengadores</td>\n",
       "      <td>The Avengers</td>\n",
       "      <td>Joss Whedon</td>\n",
       "      <td>5760000</td>\n",
       "    </tr>\n",
       "    <tr>\n",
       "      <th>1</th>\n",
       "      <td>Iron Man 2</td>\n",
       "      <td>Iron Man 2</td>\n",
       "      <td>Jon Favreau</td>\n",
       "      <td>2300000</td>\n",
       "    </tr>\n",
       "    <tr>\n",
       "      <th>2</th>\n",
       "      <td>El Increíble Hulk</td>\n",
       "      <td>The Incredible Hulk</td>\n",
       "      <td>Louis Leterrier</td>\n",
       "      <td>4000000</td>\n",
       "    </tr>\n",
       "    <tr>\n",
       "      <th>3</th>\n",
       "      <td>Thor</td>\n",
       "      <td>Thor</td>\n",
       "      <td>Kenneth Branagh</td>\n",
       "      <td>1200000</td>\n",
       "    </tr>\n",
       "  </tbody>\n",
       "</table>\n",
       "</div>"
      ],
      "text/plain": [
       "              titulo             pelicula         director  ganancias\n",
       "0     Los Vengadores         The Avengers      Joss Whedon    5760000\n",
       "1         Iron Man 2           Iron Man 2      Jon Favreau    2300000\n",
       "2  El Increíble Hulk  The Incredible Hulk  Louis Leterrier    4000000\n",
       "3               Thor                 Thor  Kenneth Branagh    1200000\n",
       "0     Los Vengadores         The Avengers      Joss Whedon    5760000\n",
       "1         Iron Man 2           Iron Man 2      Jon Favreau    2300000\n",
       "2  El Increíble Hulk  The Incredible Hulk  Louis Leterrier    4000000\n",
       "3               Thor                 Thor  Kenneth Branagh    1200000"
      ]
     },
     "execution_count": 13,
     "metadata": {},
     "output_type": "execute_result"
    }
   ],
   "source": [
    "concatenacion = pd.concat([data_frame,df ])\n",
    "concatenacion"
   ]
  },
  {
   "cell_type": "code",
   "execution_count": 37,
   "metadata": {},
   "outputs": [
    {
     "data": {
      "text/plain": [
       "4000000"
      ]
     },
     "execution_count": 37,
     "metadata": {},
     "output_type": "execute_result"
    }
   ],
   "source": [
    "elemento_especifico_loc = df.loc[2,\"Ganancias\"]\n",
    "elemento_especifico_loc"
   ]
  },
  {
   "cell_type": "code",
   "execution_count": 39,
   "metadata": {},
   "outputs": [
    {
     "data": {
      "text/plain": [
       "4000000"
      ]
     },
     "execution_count": 39,
     "metadata": {},
     "output_type": "execute_result"
    }
   ],
   "source": [
    "elemento_especifico_iloc = df.iloc[2,3]\n",
    "elemento_especifico_iloc"
   ]
  },
  {
   "cell_type": "code",
   "execution_count": 41,
   "metadata": {},
   "outputs": [
    {
     "data": {
      "text/plain": [
       "5760000"
      ]
     },
     "execution_count": 41,
     "metadata": {},
     "output_type": "execute_result"
    }
   ],
   "source": [
    "# acceder a todas las ganancias\n",
    "todas_las_ganancias = df.iloc[:,3]\n",
    "# solo la ganancia le posicion 0\n",
    "todas_las_ganancias[0]"
   ]
  },
  {
   "cell_type": "code",
   "execution_count": 42,
   "metadata": {},
   "outputs": [
    {
     "data": {
      "text/plain": [
       "Título         El Increíble Hulk\n",
       "Película     The Incredible Hulk\n",
       "Director         Louis Leterrier\n",
       "Ganancias                4000000\n",
       "Name: 2, dtype: object"
      ]
     },
     "execution_count": 42,
     "metadata": {},
     "output_type": "execute_result"
    }
   ],
   "source": [
    "# acceder a todas las ganancias\n",
    "fila3_todos_los_datos = df.iloc[2,:]\n",
    "\n",
    "fila3_todos_los_datos"
   ]
  },
  {
   "cell_type": "code",
   "execution_count": 46,
   "metadata": {},
   "outputs": [
    {
     "data": {
      "text/html": [
       "<div>\n",
       "<style scoped>\n",
       "    .dataframe tbody tr th:only-of-type {\n",
       "        vertical-align: middle;\n",
       "    }\n",
       "\n",
       "    .dataframe tbody tr th {\n",
       "        vertical-align: top;\n",
       "    }\n",
       "\n",
       "    .dataframe thead th {\n",
       "        text-align: right;\n",
       "    }\n",
       "</style>\n",
       "<table border=\"1\" class=\"dataframe\">\n",
       "  <thead>\n",
       "    <tr style=\"text-align: right;\">\n",
       "      <th></th>\n",
       "      <th>Título</th>\n",
       "      <th>Película</th>\n",
       "      <th>Director</th>\n",
       "      <th>Ganancias</th>\n",
       "    </tr>\n",
       "  </thead>\n",
       "  <tbody>\n",
       "    <tr>\n",
       "      <th>14</th>\n",
       "      <td>Iron Man 3</td>\n",
       "      <td>Iron Man 3</td>\n",
       "      <td>Shane Black</td>\n",
       "      <td>12100000</td>\n",
       "    </tr>\n",
       "    <tr>\n",
       "      <th>16</th>\n",
       "      <td>Spider-Man: Far From Home</td>\n",
       "      <td>Spider-Man: Far From Home</td>\n",
       "      <td>Jon Watts</td>\n",
       "      <td>11400000</td>\n",
       "    </tr>\n",
       "    <tr>\n",
       "      <th>18</th>\n",
       "      <td>Capitán América: Civil War</td>\n",
       "      <td>Captain America: Civil War</td>\n",
       "      <td>Anthony and Joe Russo</td>\n",
       "      <td>11500000</td>\n",
       "    </tr>\n",
       "    <tr>\n",
       "      <th>19</th>\n",
       "      <td>Spider-Man: No Way Home</td>\n",
       "      <td>Spider-Man: No Way Home</td>\n",
       "      <td>Jon Watts</td>\n",
       "      <td>10700000</td>\n",
       "    </tr>\n",
       "  </tbody>\n",
       "</table>\n",
       "</div>"
      ],
      "text/plain": [
       "                        Título                    Película  \\\n",
       "14                  Iron Man 3                  Iron Man 3   \n",
       "16   Spider-Man: Far From Home   Spider-Man: Far From Home   \n",
       "18  Capitán América: Civil War  Captain America: Civil War   \n",
       "19     Spider-Man: No Way Home     Spider-Man: No Way Home   \n",
       "\n",
       "                 Director  Ganancias  \n",
       "14            Shane Black   12100000  \n",
       "16              Jon Watts   11400000  \n",
       "18  Anthony and Joe Russo   11500000  \n",
       "19              Jon Watts   10700000  "
      ]
     },
     "execution_count": 46,
     "metadata": {},
     "output_type": "execute_result"
    }
   ],
   "source": [
    "# acceder a todas las ganancias mayores a 10000000\n",
    "ganancias_mayores = df.loc[df[\"Ganancias\"]>10000000,:]\n",
    "\n",
    "ganancias_mayores"
   ]
  }
 ],
 "metadata": {
  "kernelspec": {
   "display_name": "Python 3",
   "language": "python",
   "name": "python3"
  },
  "language_info": {
   "codemirror_mode": {
    "name": "ipython",
    "version": 3
   },
   "file_extension": ".py",
   "mimetype": "text/x-python",
   "name": "python",
   "nbconvert_exporter": "python",
   "pygments_lexer": "ipython3",
   "version": "3.12.0"
  }
 },
 "nbformat": 4,
 "nbformat_minor": 2
}
